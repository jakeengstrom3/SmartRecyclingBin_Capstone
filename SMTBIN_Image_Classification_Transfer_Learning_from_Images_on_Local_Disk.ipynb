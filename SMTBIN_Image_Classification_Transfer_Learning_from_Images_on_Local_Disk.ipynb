{
  "cells": [
    {
      "cell_type": "code",
      "execution_count": 3,
      "metadata": {
        "id": "ET9nOe-Z3CN3"
      },
      "outputs": [
        {
          "ename": "ModuleNotFoundError",
          "evalue": "No module named 'google'",
          "output_type": "error",
          "traceback": [
            "\u001b[1;31m---------------------------------------------------------------------------\u001b[0m",
            "\u001b[1;31mModuleNotFoundError\u001b[0m                       Traceback (most recent call last)",
            "Cell \u001b[1;32mIn[3], line 1\u001b[0m\n\u001b[1;32m----> 1\u001b[0m \u001b[39mfrom\u001b[39;00m \u001b[39mgoogle\u001b[39;00m\u001b[39m.\u001b[39;00m\u001b[39mcolab\u001b[39;00m \u001b[39mimport\u001b[39;00m drive\n\u001b[0;32m      2\u001b[0m drive\u001b[39m.\u001b[39mmount(\u001b[39m'\u001b[39m\u001b[39m/content/gdrive\u001b[39m\u001b[39m'\u001b[39m)\n\u001b[0;32m      3\u001b[0m \u001b[39m#drive.mount(\"/content/gdrive/Shareddrives/Capstone(SmartBin)\"))\u001b[39;00m\n\u001b[0;32m      4\u001b[0m \n\u001b[0;32m      5\u001b[0m \u001b[39m# this creates a symbolic link so that now the path /content/gdrive/My\\ Drive/ is equal to /mydrive\u001b[39;00m\n",
            "\u001b[1;31mModuleNotFoundError\u001b[0m: No module named 'google'"
          ]
        }
      ],
      "source": [
        "from google.colab import drive\n",
        "drive.mount('/content/gdrive')\n",
        "#drive.mount(\"/content/gdrive/Shareddrives/Capstone(SmartBin)\"))\n",
        "\n",
        "# this creates a symbolic link so that now the path /content/gdrive/My\\ Drive/ is equal to /mydrive\n",
        "!ln -s /content/gdrive/My\\ Drive/ /mydrive\n",
        "\n",
        "#!ls /mydrive"
      ]
    },
    {
      "cell_type": "markdown",
      "metadata": {
        "id": "1wnG49WvyLjb"
      },
      "source": [
        "# Image Classification Transfer learning example with dataset from local disk\n",
        "\n",
        "\n"
      ]
    },
    {
      "cell_type": "markdown",
      "metadata": {
        "id": "Dox-68f_S51T"
      },
      "source": [
        "This Colab follows closely the https://www.tensorflow.org/lite/models/modify/model_maker/image_classification example, but with some small changes to upload custom images instead of downloading the example dataset"
      ]
    },
    {
      "cell_type": "markdown",
      "metadata": {
        "id": "Qvt6yfTQTL3D"
      },
      "source": [
        "# Step 0: Prerequisites"
      ]
    },
    {
      "cell_type": "code",
      "execution_count": null,
      "metadata": {
        "id": "V844ZqIT8ORm"
      },
      "outputs": [],
      "source": [
        "import os"
      ]
    },
    {
      "cell_type": "code",
      "execution_count": null,
      "metadata": {
        "id": "Vc1_ZmyD8Sxq"
      },
      "outputs": [],
      "source": [
        "!pip install -q tflite-model-maker"
      ]
    },
    {
      "cell_type": "code",
      "execution_count": null,
      "metadata": {
        "id": "M4_cVydA0C5X"
      },
      "outputs": [],
      "source": [
        "import numpy as np\n",
        "\n",
        "import tensorflow as tf\n",
        "assert tf.__version__.startswith('2')\n",
        "\n",
        "\n",
        "from tflite_model_maker.config import ExportFormat\n",
        "from tflite_model_maker.config import QuantizationConfig\n",
        "from tflite_model_maker.image_classifier import DataLoader\n",
        "from tflite_model_maker import model_spec\n",
        "from tflite_model_maker import image_classifier\n",
        "\n",
        "import matplotlib.pyplot as plt"
      ]
    },
    {
      "cell_type": "markdown",
      "metadata": {
        "id": "bxSipBL-ydJf"
      },
      "source": [
        "# Step 1: Loading data from local disk into TF ImageDataset object\n",
        "**Before running, go to the folder icon and drag a zipped dataset into /content/.**\n",
        "\n",
        "The dataset must have images properly sorted into labeled sub directories. Each sub directory will correspond to a new class in the models head layer. For example, make sure all images of plastic bottles are in the directory dataset/plastic_bottles/. "
      ]
    },
    {
      "cell_type": "code",
      "execution_count": null,
      "metadata": {
        "id": "8qp5pXNY0ehX"
      },
      "outputs": [],
      "source": [
        "!cd  /mydrive/\n",
        "#!unzip -q /mydrive/Recyclables.zip\n",
        "#!unzip -q /mydrive/rawimgsEdited2.zip\n",
        "!unzip -q /mydrive/Recyclables-update+rotate.zip"
      ]
    },
    {
      "cell_type": "markdown",
      "metadata": {
        "id": "9zibKssrBmyI"
      },
      "source": [
        "Set image path to the name of the uploaded data folder"
      ]
    },
    {
      "cell_type": "code",
      "execution_count": null,
      "metadata": {
        "id": "vRkHfpyQ35BC"
      },
      "outputs": [],
      "source": [
        "image_path ='Recyclables'\n",
        "#image_path ='rawimgsEdited2'"
      ]
    },
    {
      "cell_type": "markdown",
      "metadata": {
        "id": "MTzKBSWaBuh9"
      },
      "source": [
        "Using tflife_model_maker/image_classifer/Dataloader to load the data from folder. This will automatically label the images with the name of thier resident directory. "
      ]
    },
    {
      "cell_type": "code",
      "execution_count": null,
      "metadata": {
        "id": "7p7Aowyv__aB"
      },
      "outputs": [],
      "source": [
        "data = DataLoader.from_folder(image_path)"
      ]
    },
    {
      "cell_type": "markdown",
      "metadata": {
        "id": "VTniC8nkCOmq"
      },
      "source": [
        "Showing an example of 25 images to make sure the data was loaded in properly"
      ]
    },
    {
      "cell_type": "code",
      "execution_count": null,
      "metadata": {
        "id": "q2JSQDAvAB4P"
      },
      "outputs": [],
      "source": [
        "plt.figure(figsize=(10,10))\n",
        "for i, (image, label) in enumerate(data.gen_dataset().unbatch().take(25)):\n",
        "  plt.subplot(5,5,i+1)\n",
        "  plt.xticks([])\n",
        "  plt.yticks([])\n",
        "  plt.grid(False)\n",
        "  plt.imshow(image.numpy(), cmap=plt.cm.gray)\n",
        "  plt.xlabel(data.index_to_label[label.numpy()])\n",
        "plt.show()"
      ]
    },
    {
      "cell_type": "markdown",
      "metadata": {
        "id": "jP8SaQn0A_NV"
      },
      "source": [
        "## Train test splitting\n",
        "Here we are splitting the data into training, validation, and test data, with a 0.8 to 0.1 to 0.1 split, respectively. "
      ]
    },
    {
      "cell_type": "code",
      "execution_count": null,
      "metadata": {
        "id": "BBv75Xp-AVd9"
      },
      "outputs": [],
      "source": [
        "train_data, rest_data = data.split(0.8)\n",
        "validation_data, test_data = rest_data.split(0.5)\n",
        "\n",
        "# testData if we have it in a separate folder as Test beside Recyclables\n",
        "\n",
        "#test_data = testData\n",
        "#validation_data = rest_data"
      ]
    },
    {
      "cell_type": "code",
      "execution_count": null,
      "metadata": {
        "id": "0utAssQ5K7_o"
      },
      "outputs": [],
      "source": [
        "print(type(train_data))"
      ]
    },
    {
      "cell_type": "markdown",
      "metadata": {
        "id": "6Nv2ioIDCZdS"
      },
      "source": [
        "# Step 2: Customizing the TF model"
      ]
    },
    {
      "cell_type": "markdown",
      "metadata": {
        "id": "Rv0TnlxTDWqK"
      },
      "source": [
        "Choose pretrained model to customize. Options using ModelMaker are: \n",
        "* 'efficientnet_lite0',\n",
        "*'efficientnet_lite1',\n",
        "*'efficientnet_lite2',\n",
        "*'efficientnet_lite3',\n",
        "*'efficientnet_lite4',\n",
        "*'mobilenet_v2',\n",
        "*'resnet_50'"
      ]
    },
    {
      "cell_type": "code",
      "execution_count": null,
      "metadata": {
        "id": "08ylfAcoC4dL"
      },
      "outputs": [],
      "source": [
        "model_spec='efficientnet_lite4'"
      ]
    },
    {
      "cell_type": "code",
      "execution_count": null,
      "metadata": {
        "id": "OPxg5p1WDPb1"
      },
      "outputs": [],
      "source": [
        "model = image_classifier.create(\n",
        "  train_data, \n",
        "  validation_data=validation_data,\n",
        "  model_spec=model_spec,\n",
        "  epochs=20\n",
        "  learning_rate = \n",
        ")"
      ]
    },
    {
      "cell_type": "markdown",
      "metadata": {
        "id": "z-UEBuEBFaMj"
      },
      "source": [
        "# Step 3: Evaluate the model"
      ]
    },
    {
      "cell_type": "code",
      "execution_count": null,
      "metadata": {
        "id": "7M4T4AJpFfER"
      },
      "outputs": [],
      "source": [
        "loss, accuracy = model.evaluate(test_data)\n"
      ]
    },
    {
      "cell_type": "code",
      "execution_count": null,
      "metadata": {
        "id": "umO-EcnwVta8"
      },
      "outputs": [],
      "source": [
        "y_test = []\n",
        "y_pred = []"
      ]
    },
    {
      "cell_type": "code",
      "execution_count": null,
      "metadata": {
        "id": "JunOq6s2Ftd_"
      },
      "outputs": [],
      "source": [
        "# A helper function that returns 'red'/'black' depending on if its two input\n",
        "# parameter matches or not.\n",
        "def get_label_color(val1, val2):\n",
        "  if val1 == val2:\n",
        "    return 'black'\n",
        "  else:\n",
        "    return 'red'\n",
        "\n",
        "# Then plot 100 test images and their predicted labels.\n",
        "# If a prediction result is different from the label provided label in \"test\"\n",
        "# dataset, we will highlight it in red color.\n",
        "plt.figure(figsize=(20, 20))\n",
        "predicts = model.predict_top_k(test_data)\n",
        "missed = 0\n",
        "#for i, (image, label) in enumerate(test_data.gen_dataset().unbatch().take(100)):\n",
        "for i, (image, label) in enumerate(test_data.gen_dataset().unbatch().take(len(test_data))):\n",
        "\n",
        "  predict_label = predicts[i][0][0]\n",
        "  color = get_label_color(predict_label,\n",
        "                          test_data.index_to_label[label.numpy()])\n",
        "  y_pred.append(predict_label)\n",
        "  y_test.append(test_data.index_to_label[label.numpy()])\n",
        "  if color == 'red':\n",
        "    missed+=1\n",
        "    plt.figure(figsize=(4,2), dpi=60)\n",
        "    plt.imshow(image.numpy(), cmap=plt.cm.gray)\n",
        "    plt.xlabel('Predicted: %s' % predict_label + \n",
        "              '\\nActual: %s' % test_data.index_to_label[label.numpy()] \n",
        "               , color= 'red')\n",
        "    \n",
        "plt.show()\n",
        "print(\"total = \", missed)"
      ]
    },
    {
      "cell_type": "markdown",
      "metadata": {
        "id": "k8MoA4HbsHMZ"
      },
      "source": [
        "# Export the model"
      ]
    },
    {
      "cell_type": "code",
      "execution_count": null,
      "metadata": {
        "id": "33EPPMkasJx6"
      },
      "outputs": [],
      "source": [
        "model.export(export_dir='.', tflite_filename= 'efficientnet_lite4_model_rawimgsEdited2_data.tflite')"
      ]
    },
    {
      "cell_type": "code",
      "execution_count": null,
      "metadata": {
        "id": "nadN9uPeIgCK"
      },
      "outputs": [],
      "source": [
        "# Download the TFLite model to your local computer.\n",
        "from google.colab import files\n",
        "files.download('efficientnet_lite4_model_rawimgsEdited2_data.tflite')"
      ]
    },
    {
      "cell_type": "code",
      "execution_count": null,
      "metadata": {
        "id": "bQ3ofQFWMBSS"
      },
      "outputs": [],
      "source": [
        "\"\"\"x = [i[0] for i in predicts]\n",
        "final_labels = [i[0] for i in x]\"\"\"\n"
      ]
    },
    {
      "cell_type": "markdown",
      "metadata": {
        "id": "LcrbhBAfEPtM"
      },
      "source": [
        "# Testing Different Epochs Loop"
      ]
    },
    {
      "cell_type": "code",
      "execution_count": null,
      "metadata": {
        "id": "Muso_CsjET_G"
      },
      "outputs": [],
      "source": [
        "def get_label_color(val1, val2):\n",
        "    if val1 == val2:\n",
        "      return 'black'\n",
        "    else:\n",
        "      return 'red'\n",
        "\n",
        "for i in range(5):\n",
        "  model = image_classifier.create(\n",
        "    train_data, \n",
        "    validation_data=validation_data,\n",
        "    model_spec=model_spec,\n",
        "    epochs= i * 5\n",
        "  )\n",
        "\n",
        "  loss, accuracy = model.evaluate(test_data)\n",
        "\n",
        "  y_test = []\n",
        "  y_pred = []\n",
        "\n",
        "  # A helper function that returns 'red'/'black' depending on if its two input\n",
        "  # parameter matches or not.\n",
        "  \n",
        "\n",
        "  # Then plot 100 test images and their predicted labels.\n",
        "  # If a prediction result is different from the label provided label in \"test\"\n",
        "  # dataset, we will highlight it in red color.\n",
        "  plt.figure(figsize=(20, 20))\n",
        "  predicts = model.predict_top_k(test_data)\n",
        "  missed = 0\n",
        "  #for i, (image, label) in enumerate(test_data.gen_dataset().unbatch().take(100)):\n",
        "  for i, (image, label) in enumerate(test_data.gen_dataset().unbatch().take(len(test_data))):\n",
        "\n",
        "    predict_label = predicts[i][0][0]\n",
        "    color = get_label_color(predict_label,\n",
        "                            test_data.index_to_label[label.numpy()])\n",
        "    y_pred.append(predict_label)\n",
        "    y_test.append(test_data.index_to_label[label.numpy()])\n",
        "    if color == 'red':\n",
        "      missed+=1\n",
        "      plt.figure(figsize=(4,2), dpi=60)\n",
        "      plt.imshow(image.numpy(), cmap=plt.cm.gray)\n",
        "      plt.xlabel('Predicted: %s' % predict_label + \n",
        "                '\\nActual: %s' % test_data.index_to_label[label.numpy()] \n",
        "                , color= 'red')\n",
        "      \n",
        "  #plt.show()\n",
        "  print(\"total = \", missed)\n",
        "\n",
        "  "
      ]
    },
    {
      "cell_type": "code",
      "execution_count": null,
      "metadata": {
        "id": "d60wuXW6j_Ip"
      },
      "outputs": [],
      "source": [
        "# A helper function that returns 'red'/'black' depending on if its two input\n",
        "# parameter matches or not.\n",
        "def get_label_color(val1, val2):\n",
        "  if val1 == val2:\n",
        "    return 'black'\n",
        "  else:\n",
        "    return 'red'\n",
        "\n",
        "# Then plot 100 test images and their predicted labels.\n",
        "# If a prediction result is different from the label provided label in \"test\"\n",
        "# dataset, we will highlight it in red color.\n",
        "plt.figure(figsize=(20, 20))\n",
        "predicts = model.predict_top_k(test_data)\n",
        "missed = 0\n",
        "#for i, (image, label) in enumerate(test_data.gen_dataset().unbatch().take(100)):\n",
        "for i, (image, label) in enumerate(test_data.gen_dataset().unbatch().take(len(test_data))):\n",
        "\n",
        "  predict_label = predicts[i][0][0]\n",
        "  color = get_label_color(predict_label,\n",
        "                          test_data.index_to_label[label.numpy()])\n",
        "  y_pred.append(predict_label)\n",
        "  y_test.append(test_data.index_to_label[label.numpy()])\n",
        "  if color == 'red':\n",
        "    missed+=1\n",
        "    plt.figure(figsize=(4,2), dpi=60)\n",
        "    plt.imshow(image.numpy(), cmap=plt.cm.gray)\n",
        "    plt.xlabel('Predicted: %s' % predict_label + \n",
        "              '\\nActual: %s' % test_data.index_to_label[label.numpy()] \n",
        "               , color= 'red')\n",
        "    \n",
        "plt.show()\n",
        "print(\"total = \", missed)"
      ]
    },
    {
      "cell_type": "markdown",
      "metadata": {
        "id": "5qB-GsLAmiaV"
      },
      "source": [
        "# Metrics"
      ]
    },
    {
      "cell_type": "code",
      "execution_count": null,
      "metadata": {
        "id": "Ydz_MJFnH7Qy"
      },
      "outputs": [],
      "source": [
        "model.evaluate(validation_data)\n",
        "model.evaluate(test_data)"
      ]
    },
    {
      "cell_type": "code",
      "execution_count": null,
      "metadata": {
        "id": "H9YjMoiRh_BG"
      },
      "outputs": [],
      "source": [
        "from sklearn import metrics\n",
        "from sklearn.metrics import confusion_matrix #\n",
        "from sklearn.metrics import accuracy_score\n",
        "from sklearn.metrics import precision_recall_fscore_support #\n",
        "from sklearn.metrics import classification_report #\n",
        "from sklearn.metrics import ConfusionMatrixDisplay #"
      ]
    },
    {
      "cell_type": "code",
      "execution_count": null,
      "metadata": {
        "id": "_Z1GbdgEiGTB"
      },
      "outputs": [],
      "source": [
        "cm = confusion_matrix(y_test, y_pred)\n",
        "print(cm)\n",
        "cm_display = ConfusionMatrixDisplay(confusion_matrix = cm, display_labels = [False, True])\n",
        "\n",
        "cm_display.plot()\n",
        "plt.show()"
      ]
    },
    {
      "cell_type": "code",
      "execution_count": null,
      "metadata": {
        "id": "pTi8WXLAiRum"
      },
      "outputs": [],
      "source": [
        "print(precision_recall_fscore_support(y_test, y_pred, average='weighted'))"
      ]
    },
    {
      "cell_type": "code",
      "execution_count": null,
      "metadata": {
        "id": "0_N8Cl88icld"
      },
      "outputs": [],
      "source": [
        "#diff accuracy than tf acuuracy\n",
        "#beacuse keras and sklearn seem to calculate\n",
        "#multiclass accuracy differntly\n",
        "print(accuracy_score(y_test, y_pred))"
      ]
    },
    {
      "cell_type": "code",
      "execution_count": null,
      "metadata": {
        "id": "UQBAClO_iz6T"
      },
      "outputs": [],
      "source": [
        "print(classification_report(y_test, y_pred))"
      ]
    },
    {
      "cell_type": "code",
      "execution_count": null,
      "metadata": {
        "id": "8WNsTAWnQXoM"
      },
      "outputs": [],
      "source": [
        "print( len(y_pred) )\n",
        "print( len(rest_data) )\n",
        "print( len(train_data) )\n",
        "print(\"total missed= \", missed)\n",
        "print(\"% missed= \", 100 * (missed/len(y_pred)) )"
      ]
    },
    {
      "cell_type": "markdown",
      "metadata": {
        "id": "ZQv_mc_swGRE"
      },
      "source": [
        "#Local Test"
      ]
    },
    {
      "cell_type": "code",
      "execution_count": null,
      "metadata": {
        "id": "B5kbRFsmwJ-M"
      },
      "outputs": [],
      "source": [
        "from IPython.display import display, Javascript\n",
        "from google.colab.output import eval_js\n",
        "from base64 import b64decode\n",
        "\n",
        "def take_photo(filename='photo.jpg', quality=0.8):\n",
        "  js = Javascript('''\n",
        "    async function takePhoto(quality) {\n",
        "      const div = document.createElement('div');\n",
        "      const capture = document.createElement('button');\n",
        "      capture.textContent = 'Capture';\n",
        "      div.appendChild(capture);\n",
        "\n",
        "      const video = document.createElement('video');\n",
        "      video.style.display = 'block';\n",
        "      const stream = await navigator.mediaDevices.getUserMedia({video: true});\n",
        "\n",
        "      document.body.appendChild(div);\n",
        "      div.appendChild(video);\n",
        "      video.srcObject = stream;\n",
        "      await video.play();\n",
        "\n",
        "      // Resize the output to fit the video element.\n",
        "      google.colab.output.setIframeHeight(document.documentElement.scrollHeight, true);\n",
        "\n",
        "      // Wait for Capture to be clicked.\n",
        "      await new Promise((resolve) => capture.onclick = resolve);\n",
        "\n",
        "      const canvas = document.createElement('canvas');\n",
        "      canvas.width = 300 //video.videoWidth;\n",
        "      canvas.height = 300 //video.videoHeight;\n",
        "      canvas.getContext('2d').drawImage(video, 0, 0);\n",
        "      stream.getVideoTracks()[0].stop();\n",
        "      div.remove();\n",
        "      return canvas.toDataURL('image/jpeg', quality);\n",
        "    }\n",
        "    ''')\n",
        "  display(js)\n",
        "  data = eval_js('takePhoto({})'.format(quality))\n",
        "  binary = b64decode(data.split(',')[1])\n",
        "  with open(filename, 'wb') as f:\n",
        "    f.write(binary)\n",
        "  return filename"
      ]
    },
    {
      "cell_type": "code",
      "execution_count": null,
      "metadata": {
        "id": "xTOYEUWhwUR4"
      },
      "outputs": [],
      "source": [
        "from IPython.display import Image\n",
        "try:\n",
        "  filename = take_photo()\n",
        "  print('Saved to {}'.format(filename))\n",
        "  \n",
        "  # Show the image which was just taken.\n",
        "  display(Image(filename))\n",
        "except Exception as err:\n",
        "  # Errors will be thrown if the user does not have a webcam or if they do not\n",
        "  # grant the page permission to access it.\n",
        "  print(str(err))"
      ]
    },
    {
      "cell_type": "code",
      "execution_count": null,
      "metadata": {
        "id": "AiUkKW64wb-G"
      },
      "outputs": [],
      "source": [
        "# Import required libraries\n",
        "import tensorflow as tf\n",
        "from PIL import Image\n",
        "# Read a PIL image  \n",
        "img = Image.open(filename)\n",
        "\n",
        "# Convert the PIL image to Tensor\n",
        "img_to_tensor = tf.convert_to_tensor(img)\n",
        "img_to_predict = (np.expand_dims(img_to_tensor,0))\n",
        "\n",
        "#predict img class\n",
        "predicts = model.predict_top_k(img_to_predict)\n",
        "predict_label = predicts[0][0][0]\n",
        "\n",
        "print(predict_label)"
      ]
    },
    {
      "cell_type": "markdown",
      "metadata": {
        "id": "Rg7-vgg19oiy"
      },
      "source": [
        "# Heatmap for macro variables"
      ]
    },
    {
      "cell_type": "code",
      "execution_count": null,
      "metadata": {
        "id": "RoQnko8c-g54"
      },
      "outputs": [],
      "source": []
    }
  ],
  "metadata": {
    "accelerator": "GPU",
    "colab": {
      "private_outputs": true,
      "provenance": []
    },
    "gpuClass": "standard",
    "kernelspec": {
      "display_name": "Python 3",
      "name": "python3"
    },
    "language_info": {
      "codemirror_mode": {
        "name": "ipython",
        "version": 3
      },
      "file_extension": ".py",
      "mimetype": "text/x-python",
      "name": "python",
      "nbconvert_exporter": "python",
      "pygments_lexer": "ipython3",
      "version": "3.10.10"
    }
  },
  "nbformat": 4,
  "nbformat_minor": 0
}
