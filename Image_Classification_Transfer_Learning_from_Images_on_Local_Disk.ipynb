{
  "nbformat": 4,
  "nbformat_minor": 0,
  "metadata": {
    "colab": {
      "private_outputs": true,
      "provenance": [],
      "include_colab_link": true
    },
    "kernelspec": {
      "name": "python3",
      "display_name": "Python 3"
    },
    "language_info": {
      "name": "python"
    },
    "accelerator": "GPU",
    "gpuClass": "standard"
  },
  "cells": [
    {
      "cell_type": "markdown",
      "metadata": {
        "id": "view-in-github",
        "colab_type": "text"
      },
      "source": [
        "<a href=\"https://colab.research.google.com/github/jakeengstrom3/SmartRecyclingBin_Capstone/blob/main/Image_Classification_Transfer_Learning_from_Images_on_Local_Disk.ipynb\" target=\"_parent\"><img src=\"https://colab.research.google.com/assets/colab-badge.svg\" alt=\"Open In Colab\"/></a>"
      ]
    },
    {
      "cell_type": "code",
      "source": [
        "from google.colab import drive\n",
        "drive.mount('/content/gdrive')\n",
        "\n",
        "\n",
        "# this creates a symbolic link so that now the path /content/gdrive/My\\ Drive/ is equal to /mydrive\n",
        "!ln -s /content/gdrive/My\\ Drive/ /mydrive\n",
        "#!ls /mydrive"
      ],
      "metadata": {
        "id": "ET9nOe-Z3CN3"
      },
      "execution_count": null,
      "outputs": []
    },
    {
      "cell_type": "markdown",
      "source": [
        "# Image Classification Transfer learning example with dataset from local disk\n",
        "\n",
        "\n"
      ],
      "metadata": {
        "id": "1wnG49WvyLjb"
      }
    },
    {
      "cell_type": "markdown",
      "source": [
        "This Colab follows closely the https://www.tensorflow.org/lite/models/modify/model_maker/image_classification example, but with some small changes to upload custom images instead of downloading the example dataset"
      ],
      "metadata": {
        "id": "Dox-68f_S51T"
      }
    },
    {
      "cell_type": "markdown",
      "source": [
        "# Step 0: Prerequisites"
      ],
      "metadata": {
        "id": "Qvt6yfTQTL3D"
      }
    },
    {
      "cell_type": "code",
      "source": [
        "import os"
      ],
      "metadata": {
        "id": "V844ZqIT8ORm"
      },
      "execution_count": null,
      "outputs": []
    },
    {
      "cell_type": "code",
      "source": [
        "!pip install -q tflite-model-maker"
      ],
      "metadata": {
        "id": "Vc1_ZmyD8Sxq"
      },
      "execution_count": null,
      "outputs": []
    },
    {
      "cell_type": "code",
      "source": [
        "import numpy as np\n",
        "\n",
        "import tensorflow as tf\n",
        "assert tf.__version__.startswith('2')\n",
        "\n",
        "from tflite_model_maker import model_spec\n",
        "from tflite_model_maker import image_classifier\n",
        "from tflite_model_maker.config import ExportFormat\n",
        "from tflite_model_maker.config import QuantizationConfig\n",
        "from tflite_model_maker.image_classifier import DataLoader\n",
        "\n",
        "import matplotlib.pyplot as plt"
      ],
      "metadata": {
        "id": "M4_cVydA0C5X"
      },
      "execution_count": null,
      "outputs": []
    },
    {
      "cell_type": "markdown",
      "source": [
        "# Step 1: Loading data from local disk into TF ImageDataset object\n",
        "**Before running, go to the folder icon and drag a zipped dataset into /content/.**\n",
        "\n",
        "The dataset must have images properly sorted into labeled sub directories. Each sub directory will correspond to a new class in the models head layer. For example, make sure all images of plastic bottles are in the directory dataset/plastic_bottles/. "
      ],
      "metadata": {
        "id": "bxSipBL-ydJf"
      }
    },
    {
      "cell_type": "code",
      "source": [
        "!cd  /mydrive/\n",
        "#!unzip -q /mydrive/Recyclables.zip\n",
        "#!unzip -q /mydrive/rawimgsEdited2.zip\n",
        "#!unzip -q /mydrive/Recyclables_updated.zip\n",
        "#!unzip -q /mydrive/Recyclables-update+rotate.zip\n",
        "!unzip -q /mydrive/recycle_images_psu.zip"
      ],
      "metadata": {
        "id": "8qp5pXNY0ehX"
      },
      "execution_count": null,
      "outputs": []
    },
    {
      "cell_type": "markdown",
      "source": [
        "Set image path to the name of the uploaded data folder"
      ],
      "metadata": {
        "id": "9zibKssrBmyI"
      }
    },
    {
      "cell_type": "code",
      "source": [
        "#image_path ='Recyclables'\n",
        "#image_path ='rawimgsEdited2'\n",
        "#image_path = 'Recyclables_updated'\n",
        "#image_path ='Recyclables-update+rotate'\n",
        "image_path ='recycle_images_psu'\n"
      ],
      "metadata": {
        "id": "vRkHfpyQ35BC"
      },
      "execution_count": null,
      "outputs": []
    },
    {
      "cell_type": "markdown",
      "source": [
        "Using tflife_model_maker/image_classifer/Dataloader to load the data from folder. This will automatically label the images with the name of thier resident directory. "
      ],
      "metadata": {
        "id": "MTzKBSWaBuh9"
      }
    },
    {
      "cell_type": "code",
      "source": [
        "data = DataLoader.from_folder(image_path)\n",
        "\n",
        "print(data.size)"
      ],
      "metadata": {
        "id": "7p7Aowyv__aB"
      },
      "execution_count": null,
      "outputs": []
    },
    {
      "cell_type": "markdown",
      "source": [
        "Showing an example of 25 images to make sure the data was loaded in properly"
      ],
      "metadata": {
        "id": "VTniC8nkCOmq"
      }
    },
    {
      "cell_type": "code",
      "source": [
        "plt.figure(figsize=(10,10))\n",
        "for i, (image, label) in enumerate(data.gen_dataset().unbatch().take(25)):\n",
        "  plt.subplot(5,5,i+1)\n",
        "  plt.xticks([])\n",
        "  plt.yticks([])\n",
        "  plt.grid(False)\n",
        "  plt.imshow(image.numpy(), cmap=plt.cm.gray)\n",
        "  plt.xlabel(data.index_to_label[label.numpy()])\n",
        "plt.show()"
      ],
      "metadata": {
        "id": "q2JSQDAvAB4P"
      },
      "execution_count": null,
      "outputs": []
    },
    {
      "cell_type": "markdown",
      "source": [
        "## Train test splitting\n",
        "Here we are splitting the data into training, validation, and test data, with a 0.8 to 0.1 to 0.1 split, respectively. "
      ],
      "metadata": {
        "id": "jP8SaQn0A_NV"
      }
    },
    {
      "cell_type": "code",
      "source": [
        "train_data, rest_data = data.split(0.9)\n",
        "validation_data, test_data = rest_data.split(0.5)"
      ],
      "metadata": {
        "id": "BBv75Xp-AVd9"
      },
      "execution_count": null,
      "outputs": []
    },
    {
      "cell_type": "code",
      "source": [
        "print(type(train_data))"
      ],
      "metadata": {
        "id": "0utAssQ5K7_o"
      },
      "execution_count": null,
      "outputs": []
    },
    {
      "cell_type": "markdown",
      "source": [
        "# Step 2: Customizing the TF model"
      ],
      "metadata": {
        "id": "6Nv2ioIDCZdS"
      }
    },
    {
      "cell_type": "markdown",
      "source": [
        "Choose pretrained model to customize. Options using ModelMaker are: \n",
        "* 'efficientnet_lite0',\n",
        "*'efficientnet_lite1',\n",
        "*'efficientnet_lite2',\n",
        "*'efficientnet_lite3',\n",
        "*'efficientnet_lite4',\n",
        "*'mobilenet_v2',\n",
        "*'resnet_50'"
      ],
      "metadata": {
        "id": "Rv0TnlxTDWqK"
      }
    },
    {
      "cell_type": "code",
      "source": [
        "model_spec='mobilenet_v2'"
      ],
      "metadata": {
        "id": "08ylfAcoC4dL"
      },
      "execution_count": null,
      "outputs": []
    },
    {
      "cell_type": "code",
      "source": [
        "model = image_classifier.create(\n",
        "  train_data, \n",
        "  validation_data=validation_data,\n",
        "  model_spec=model_spec,\n",
        "  batch_size = 256,\n",
        "  epochs= 15\n",
        "\n",
        ")"
      ],
      "metadata": {
        "id": "OPxg5p1WDPb1"
      },
      "execution_count": null,
      "outputs": []
    },
    {
      "cell_type": "markdown",
      "source": [
        "# Step 3: Evalutate the model"
      ],
      "metadata": {
        "id": "z-UEBuEBFaMj"
      }
    },
    {
      "cell_type": "code",
      "source": [
        "loss, accuracy = model.evaluate(test_data)\n"
      ],
      "metadata": {
        "id": "7M4T4AJpFfER"
      },
      "execution_count": null,
      "outputs": []
    },
    {
      "cell_type": "code",
      "source": [
        "y_test = []\n",
        "y_pred = []"
      ],
      "metadata": {
        "id": "umO-EcnwVta8"
      },
      "execution_count": null,
      "outputs": []
    },
    {
      "cell_type": "code",
      "source": [
        "y_test = []\n",
        "y_pred = []\n",
        "# A helper function that returns 'red'/'black' depending on if its two input\n",
        "# parameter matches or not.\n",
        "def get_label_color(val1, val2):\n",
        "  if val1 == val2:\n",
        "    return 'black'\n",
        "  else:\n",
        "    return 'red'\n",
        "\n",
        "# Then plot 100 test images and their predicted labels.\n",
        "# If a prediction result is different from the label provided label in \"test\"\n",
        "# dataset, we will highlight it in red color.\n",
        "plt.figure(figsize=(20, 20))\n",
        "predicts = model.predict_top_k(test_data)\n",
        "missed = 0\n",
        "#for i, (image, label) in enumerate(test_data.gen_dataset().unbatch().take(100)):\n",
        "for i, (image, label) in enumerate(test_data.gen_dataset().unbatch().take(len(test_data))):\n",
        "\n",
        "  predict_label = predicts[i][0][0]\n",
        "  color = get_label_color(predict_label,\n",
        "                          test_data.index_to_label[label.numpy()])\n",
        "  y_pred.append(predict_label)\n",
        "  y_test.append(test_data.index_to_label[label.numpy()])\n",
        "  if color == 'red':\n",
        "    missed+=1\n",
        "    plt.figure(figsize=(4,2), dpi=60)\n",
        "    plt.imshow(image.numpy(), cmap=plt.cm.gray)\n",
        "    plt.xlabel('Predicted: %s' % predict_label + \n",
        "              '\\nActual: %s' % test_data.index_to_label[label.numpy()] \n",
        "               , color= 'red')\n",
        "    \n",
        "plt.show()\n",
        "print(\"missed total = \", missed)\n",
        "print(\"out of = \", len(y_test) )\n"
      ],
      "metadata": {
        "id": "JunOq6s2Ftd_"
      },
      "execution_count": null,
      "outputs": []
    },
    {
      "cell_type": "markdown",
      "source": [
        "# Export the model"
      ],
      "metadata": {
        "id": "k8MoA4HbsHMZ"
      }
    },
    {
      "cell_type": "code",
      "source": [
        "model.export(export_dir='.', tflite_filename= 'mobilenet_v2_psu_data.tflite')"
      ],
      "metadata": {
        "id": "33EPPMkasJx6"
      },
      "execution_count": null,
      "outputs": []
    },
    {
      "cell_type": "code",
      "source": [
        "# Download the TFLite model to your local computer.\n",
        "from google.colab import files\n",
        "files.download('mobilenet_v2_psu_data.tflite')"
      ],
      "metadata": {
        "id": "nadN9uPeIgCK"
      },
      "execution_count": null,
      "outputs": []
    },
    {
      "cell_type": "code",
      "source": [
        "\"\"\"x = [i[0] for i in predicts]\n",
        "final_labels = [i[0] for i in x]\"\"\"\n"
      ],
      "metadata": {
        "id": "bQ3ofQFWMBSS"
      },
      "execution_count": null,
      "outputs": []
    },
    {
      "cell_type": "markdown",
      "source": [
        "#Metrics"
      ],
      "metadata": {
        "id": "5qB-GsLAmiaV"
      }
    },
    {
      "cell_type": "code",
      "source": [
        "#model.evaluate(validation_data)\n",
        "#model.evaluate(test_data)"
      ],
      "metadata": {
        "id": "Ydz_MJFnH7Qy"
      },
      "execution_count": null,
      "outputs": []
    },
    {
      "cell_type": "code",
      "source": [
        "\n",
        "from sklearn import metrics\n",
        "from sklearn.metrics import confusion_matrix #\n",
        "from sklearn.metrics import accuracy_score\n",
        "from sklearn.metrics import precision_recall_fscore_support #\n",
        "from sklearn.metrics import classification_report #\n",
        "from sklearn.metrics import ConfusionMatrixDisplay #"
      ],
      "metadata": {
        "id": "H9YjMoiRh_BG"
      },
      "execution_count": null,
      "outputs": []
    },
    {
      "cell_type": "code",
      "source": [
        "cm = confusion_matrix(y_test, y_pred)\n",
        "print(cm)\n",
        "cm_display = ConfusionMatrixDisplay(confusion_matrix = cm, \n",
        "                                    #display_labels = [\"can\",\"glass\",\"paperB\",\"plastic\",\"NRplasticB\",\"NRbottle\",\"NRcup\",\"NRrecipt\"])\n",
        "                                    display_labels = [\"Aluminum\",\"Glass\",\"Plastic\", \"NR\", \"smth\", \"smth2\"])\n",
        "\n",
        "\n",
        "cm_display.plot()\n",
        "plt.title(\"mobilenet (epoch:5, batch size:256)\")\n",
        "plt.show()"
      ],
      "metadata": {
        "id": "_Z1GbdgEiGTB"
      },
      "execution_count": null,
      "outputs": []
    },
    {
      "cell_type": "code",
      "source": [
        "print(precision_recall_fscore_support(y_test, y_pred, average='weighted'))"
      ],
      "metadata": {
        "id": "pTi8WXLAiRum"
      },
      "execution_count": null,
      "outputs": []
    },
    {
      "cell_type": "code",
      "source": [
        "#diff accuracy than tf acuuracy\n",
        "#beacuse keras and sklearn seem to calculate\n",
        "#multiclass accuracy differntly\n",
        "print(accuracy_score(y_test, y_pred))"
      ],
      "metadata": {
        "id": "0_N8Cl88icld"
      },
      "execution_count": null,
      "outputs": []
    },
    {
      "cell_type": "code",
      "source": [
        "print(classification_report(y_test, y_pred))"
      ],
      "metadata": {
        "id": "UQBAClO_iz6T"
      },
      "execution_count": null,
      "outputs": []
    },
    {
      "cell_type": "code",
      "source": [
        "10print( len(y_pred) )\n",
        "print( len(rest_data) )\n",
        "print( len(train_data) )\n",
        "print(\"total missed= \", missed)\n",
        "print(\"% missed= \", 100 * (missed/len(y_pred)) )"
      ],
      "metadata": {
        "id": "8WNsTAWnQXoM"
      },
      "execution_count": null,
      "outputs": []
    },
    {
      "cell_type": "markdown",
      "source": [
        "# Local Test\n",
        "\n"
      ],
      "metadata": {
        "id": "YDUQsntNWR6o"
      }
    },
    {
      "cell_type": "code",
      "source": [
        "from IPython.display import display, Javascript\n",
        "from google.colab.output import eval_js\n",
        "from base64 import b64decode\n",
        "\n",
        "def take_photo(filename='photo.jpg', quality=0.8):\n",
        "  js = Javascript('''\n",
        "    async function takePhoto(quality) {\n",
        "      const div = document.createElement('div');\n",
        "      const capture = document.createElement('button');\n",
        "      capture.textContent = 'Capture';\n",
        "      div.appendChild(capture);\n",
        "\n",
        "      const video = document.createElement('video');\n",
        "      \n",
        "      video.videoHeight = 224 //300\n",
        "      video.videoWidth = 224 //300\n",
        "      video.height = 224 //300\n",
        "      video.width = 224 //300\n",
        "      \n",
        "      video.style.display = 'block';\n",
        "      const stream = await navigator.mediaDevices.getUserMedia({video: true});\n",
        "\n",
        "      document.body.appendChild(div);\n",
        "      div.appendChild(video);\n",
        "      video.srcObject = stream;\n",
        "      await video.play();\n",
        "\n",
        "      // Resize the output to fit the video element.\n",
        "      google.colab.output.setIframeHeight(document.documentElement.scrollHeight, true);\n",
        "\n",
        "      // Wait for Capture to be clicked.\n",
        "      await new Promise((resolve) => capture.onclick = resolve);\n",
        "\n",
        "      const canvas = document.createElement('canvas');\n",
        "      canvas.width = 224 //video.videoWidth; //300\n",
        "      canvas.height = 224 //video.videoHeight; //300\n",
        "      canvas.getContext('2d').drawImage(video, 0, 0);\n",
        "      stream.getVideoTracks()[0].stop();\n",
        "      div.remove();\n",
        "      return canvas.toDataURL('image/jpeg', quality);\n",
        "    }\n",
        "    ''')\n",
        "  display(js)\n",
        "  data = eval_js('takePhoto({})'.format(quality))\n",
        "  binary = b64decode(data.split(',')[1])\n",
        "  with open(filename, 'wb') as f:\n",
        "    f.write(binary)\n",
        "  return filename"
      ],
      "metadata": {
        "id": "J-GUBmXFWYYQ"
      },
      "execution_count": null,
      "outputs": []
    },
    {
      "cell_type": "code",
      "source": [
        "from IPython.display import Image\n",
        "try:\n",
        "  filename = take_photo()\n",
        "  print('Saved to {}'.format(filename))\n",
        "  \n",
        "  # Show the image which was just taken.\n",
        "  display(Image(filename))\n",
        "except Exception as err:\n",
        "  # Errors will be thrown if the user does not have a webcam or if they do not\n",
        "  # grant the page permission to access it.\n",
        "  print(str(err))"
      ],
      "metadata": {
        "id": "PsZQuH4MWYYS"
      },
      "execution_count": null,
      "outputs": []
    },
    {
      "cell_type": "code",
      "source": [
        "from keras.preprocessing.image import load_img\n",
        "from keras.preprocessing.image import img_to_array\n",
        "#print(filename.shape)\n",
        "#print(Image(filename))\n",
        "#filename = (np.expand_dims(filename,0))\n",
        "#print(filename.shape)\n",
        "from keras.utils import np_utils\n",
        "#filename=np_utils.to_categorical(filename)\n",
        "\n",
        "\n",
        "#image = img_to_array(filename)\n",
        "#image = image.reshape((1, image.shape[0], image.shape[1], image.shape[2]))\n",
        "\n",
        "\n",
        "# Import required libraries\n",
        "import tensorflow as tf\n",
        "from PIL import Image\n",
        "# Read a PIL image  \n",
        "img = Image.open(filename)#('image.jpg')\n",
        "print(img)\n",
        "#img = tf.image.resize(img, [300,300]).shape.as_list()\n",
        "\n",
        "# Convert the PIL image to Tensor\n",
        "img_to_tensor = tf.convert_to_tensor(img)\n",
        "# print the converted Torch tensor\n",
        "#print(img_to_tensor)\n",
        "#print(\"dtype of tensor:\",img_to_tensor.dtype)\n",
        "#print(img_to_tensor.shape)\n"
      ],
      "metadata": {
        "id": "mutuhYSVj9TR"
      },
      "execution_count": null,
      "outputs": []
    },
    {
      "cell_type": "code",
      "source": [
        "#############################################\n",
        "filename = (np.expand_dims(filename,0))\n",
        "#print(filename.shape)\n",
        "#kk=tf.reshape(img_to_tensor, [300, 300, 3])\n",
        "#print(kk.shape)\n",
        "j = (np.expand_dims(img_to_tensor,0))\n",
        "predicts = model.predict_top_k(j)\n",
        "predict_label = predicts[0][0][0]\n",
        "\n",
        "print(predict_label)\n",
        "print(j.shape)"
      ],
      "metadata": {
        "id": "nKdGkKKVb88w"
      },
      "execution_count": null,
      "outputs": []
    },
    {
      "cell_type": "code",
      "source": [
        "print(test_data)\n",
        "print(type(test_data))\n",
        "print(filename)"
      ],
      "metadata": {
        "id": "wLlhrPT6husB"
      },
      "execution_count": null,
      "outputs": []
    },
    {
      "cell_type": "markdown",
      "source": [
        "#Test diff epochs"
      ],
      "metadata": {
        "id": "hF-Im-V544G3"
      }
    },
    {
      "cell_type": "code",
      "source": [
        "for i in range(6):\n",
        "  model = image_classifier.create(\n",
        "    train_data, \n",
        "    validation_data=validation_data,\n",
        "    model_spec=model_spec,\n",
        "    epochs= i * 5\n",
        "  )\n",
        "\n",
        "  loss, accuracy = model.evaluate(test_data)"
      ],
      "metadata": {
        "id": "73HNkePK5Gaq"
      },
      "execution_count": null,
      "outputs": []
    }
  ]
}